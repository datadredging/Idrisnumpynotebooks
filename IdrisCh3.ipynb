{
 "worksheets": [
  {
   "cells": [
    {
     "cell_type": "code",
     "metadata": {},
     "outputs": [],
     "input": [
      "from numpy import *"
     ],
     "language": "python",
     "prompt_number": 1
    },
    {
     "cell_type": "heading",
     "metadata": {},
     "level": 1,
     "source": [
      "Creating a document"
     ]
    },
    {
     "cell_type": "code",
     "metadata": {},
     "outputs": [
      {
       "output_type": "stream",
       "stream": "stdout",
       "text": [
        "[[ 1.  0.]\n [ 0.  1.]]\n"
       ]
      }
     ],
     "input": [
      "i2 = eye(2)\n",
      "print i2\n",
      "import os\n",
      "os.chdir('/Users/dima/Downloads/IdrisCode')\n",
      "savetxt(\"ey.txt\", i2)"
     ],
     "language": "python",
     "prompt_number": 10
    },
    {
     "cell_type": "heading",
     "metadata": {},
     "level": 1,
     "source": [
      "Reading from CSV"
     ]
    },
    {
     "cell_type": "code",
     "metadata": {},
     "outputs": [
      {
       "output_type": "stream",
       "stream": "stdout",
       "text": [
        "[ 336.1   339.32  345.03  344.32  343.44  346.5   351.88  355.2   358.16\n  354.54  356.85  359.18  359.9   363.13  358.3   350.56  338.61  342.62\n  342.88  348.16  353.21  349.31  352.12  359.56  360.    355.36  355.76\n  352.47  346.67  351.99]\n[ 21144800.  13473000.  15236800.   9242600.  14064100.  11494200.\n  17322100.  13608500.  17240800.  33162400.  13127500.  11086200.\n  10149000.  17184100.  18949000.  29144500.  31162200.  23994700.\n  17853500.  13572000.  14395400.  16290300.  21521000.  17885200.\n  16188000.  19504300.  12718000.  16192700.  18138800.  16824200.]\n"
       ]
      }
     ],
     "input": [
      "c,v = loadtxt('./ch3code/data.csv', delimiter=',', usecols=(6,7), unpack=True)\n",
      "print c\n",
      "print v"
     ],
     "language": "python",
     "prompt_number": 13
    },
    {
     "cell_type": "heading",
     "metadata": {},
     "level": 1,
     "source": [
      "Weighted average price"
     ]
    },
    {
     "cell_type": "code",
     "metadata": {},
     "outputs": [
      {
       "output_type": "stream",
       "stream": "stdout",
       "text": [
        "VWAP:  350.589549353\nTWAP: 352.428321839\n"
       ]
      }
     ],
     "input": [
      "vwap = average(c, weights=v) #just like np.mean but with weights feature\n",
      "print \"VWAP: \", vwap\n",
      "twap = average(c, weights=arange(len(c)))\n",
      "print \"TWAP:\", twap"
     ],
     "language": "python",
     "prompt_number": 23
    },
    {
     "cell_type": "heading",
     "metadata": {},
     "level": 1,
     "source": [
      "Highest and lowest values"
     ]
    },
    {
     "cell_type": "code",
     "metadata": {},
     "outputs": [
      {
       "output_type": "stream",
       "stream": "stdout",
       "text": [
        "highest:  364.9\nlowest:  333.53\nhigh prices spread:  24.86\nlow prices spread:  26.97\n"
       ]
      }
     ],
     "input": [
      "h,l = loadtxt('./ch3code/data.csv', delimiter=',', usecols=(4,5), unpack=True)\n",
      "print \"highest: \", max(h)\n",
      "print \"lowest: \", min(l)\n",
      "#let's compute spreads (max-min)\n",
      "print \"high prices spread: \", ptp(h)\n",
      "print \"low prices spread: \", ptp(l)"
     ],
     "language": "python",
     "prompt_number": 31
    },
    {
     "cell_type": "heading",
     "metadata": {},
     "level": 1,
     "source": [
      "Thresholding"
     ]
    },
    {
     "cell_type": "code",
     "metadata": {},
     "outputs": [
      {
       "output_type": "pyout",
       "text": [
        "<module 'simplestats' from 'simplestats.py'>"
       ],
       "metadata": {}
      }
     ],
     "input": [
      "import simplestats as ss\n",
      "reload(ss)"
     ],
     "language": "python",
     "prompt_number": 54
    },
    {
     "cell_type": "code",
     "metadata": {},
     "outputs": [
      {
       "output_type": "stream",
       "stream": "stdout",
       "text": [
        "median =  352.055\nsorted =  [ 336.1   338.61  339.32  342.62  342.88  343.44  344.32  345.03  346.5\n  346.67  348.16  349.31  350.56  351.88  351.99  352.12  352.47  353.21\n  354.54  355.2   355.36  355.76  356.85  358.16  358.3   359.18  359.56\n  359.9   360.    363.13]\nmiddle =  352.055\nvariance =  50.1265178889\n"
       ]
      }
     ],
     "input": [
      "ss.stats()"
     ],
     "language": "python",
     "prompt_number": 55
    },
    {
     "cell_type": "heading",
     "metadata": {},
     "level": 1,
     "source": [
      "Stock returns"
     ]
    },
    {
     "cell_type": "code",
     "metadata": {},
     "outputs": [
      {
       "output_type": "stream",
       "stream": "stdout",
       "text": [
        "[ 0.00958048  0.01682777 -0.00205779 -0.00255576  0.00890985  0.0155267\n  0.00943503  0.00833333 -0.01010721  0.00651548  0.00652935  0.00200457\n  0.00897472 -0.01330102 -0.02160201 -0.03408832  0.01184253  0.00075886\n  0.01539897  0.01450483 -0.01104159  0.00804443  0.02112916  0.00122372\n -0.01288889  0.00112562 -0.00924781 -0.0164553   0.01534601]\nSt. dev. =  0.0129221344368\nPositive idxs =  (array([ 0,  1,  4,  5,  6,  7,  9, 10, 11, 12, 16, 17, 18, 19, 21, 22, 23,\n       25, 28]),)\nMonthly volatility =  37.3184173773\n"
       ]
      }
     ],
     "input": [
      "c=loadtxt('./ch3code/data.csv', delimiter=',', usecols=(6,), unpack=True)\n",
      "returns = diff(c) / c[:-1]\n",
      "print returns\n",
      "print \"St. dev. = \", std(returns)\n",
      "posretidxs = where(returns > 0)\n",
      "print \"Positive idxs = \", posretidxs\n",
      "logreturns = diff(log(c))\n",
      "annual_volatility = std(logreturns)/(mean(logreturns)*sqrt(1./252))\n",
      "print \"Monthly volatility = \", annual_volatility*sqrt(1./12)"
     ],
     "language": "python",
     "prompt_number": 64
    },
    {
     "cell_type": "heading",
     "metadata": {},
     "level": 2,
     "source": [
      "Dates"
     ]
    },
    {
     "cell_type": "code",
     "metadata": {},
     "outputs": [],
     "input": [
      ""
     ],
     "language": "python"
    },
    {
     "cell_type": "code",
     "metadata": {},
     "outputs": [],
     "input": [
      ""
     ],
     "language": "python"
    },
    {
     "cell_type": "code",
     "metadata": {},
     "outputs": [],
     "input": [
      ""
     ],
     "language": "python"
    },
    {
     "cell_type": "code",
     "metadata": {},
     "outputs": [],
     "input": [
      ""
     ],
     "language": "python"
    },
    {
     "cell_type": "code",
     "metadata": {},
     "outputs": [],
     "input": [
      ""
     ],
     "language": "python"
    },
    {
     "cell_type": "code",
     "metadata": {},
     "outputs": [],
     "input": [
      ""
     ],
     "language": "python"
    },
    {
     "cell_type": "code",
     "metadata": {},
     "outputs": [],
     "input": [
      ""
     ],
     "language": "python"
    },
    {
     "cell_type": "code",
     "metadata": {},
     "outputs": [],
     "input": [
      ""
     ],
     "language": "python"
    },
    {
     "cell_type": "code",
     "metadata": {},
     "outputs": [],
     "input": [
      ""
     ],
     "language": "python"
    },
    {
     "cell_type": "code",
     "metadata": {},
     "outputs": [],
     "input": [
      ""
     ],
     "language": "python"
    },
    {
     "cell_type": "code",
     "metadata": {},
     "outputs": [],
     "input": [
      ""
     ],
     "language": "python"
    },
    {
     "cell_type": "code",
     "metadata": {},
     "outputs": [],
     "input": [
      ""
     ],
     "language": "python"
    },
    {
     "cell_type": "code",
     "metadata": {},
     "outputs": [],
     "input": [
      ""
     ],
     "language": "python"
    },
    {
     "cell_type": "code",
     "metadata": {},
     "outputs": [],
     "input": [
      ""
     ],
     "language": "python"
    },
    {
     "cell_type": "code",
     "metadata": {},
     "outputs": [],
     "input": [
      ""
     ],
     "language": "python"
    },
    {
     "cell_type": "code",
     "metadata": {},
     "outputs": [],
     "input": [
      ""
     ],
     "language": "python"
    },
    {
     "cell_type": "code",
     "metadata": {},
     "outputs": [],
     "input": [
      ""
     ],
     "language": "python"
    },
    {
     "cell_type": "code",
     "metadata": {},
     "outputs": [],
     "input": [
      ""
     ],
     "language": "python"
    },
    {
     "cell_type": "code",
     "metadata": {},
     "outputs": [],
     "input": [
      ""
     ],
     "language": "python"
    },
    {
     "cell_type": "code",
     "metadata": {},
     "outputs": [],
     "input": [
      ""
     ],
     "language": "python"
    },
    {
     "cell_type": "code",
     "metadata": {},
     "outputs": [],
     "input": [
      ""
     ],
     "language": "python"
    },
    {
     "cell_type": "code",
     "metadata": {},
     "outputs": [],
     "input": [
      ""
     ],
     "language": "python"
    },
    {
     "cell_type": "code",
     "metadata": {},
     "outputs": [],
     "input": [
      ""
     ],
     "language": "python"
    },
    {
     "cell_type": "code",
     "metadata": {},
     "outputs": [],
     "input": [
      ""
     ],
     "language": "python"
    }
   ]
  }
 ],
 "cells": [],
 "metadata": {},
 "nbformat": 3,
 "nbformat_minor": 0
}