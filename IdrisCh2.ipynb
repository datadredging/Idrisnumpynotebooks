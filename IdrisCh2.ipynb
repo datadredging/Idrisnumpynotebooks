{
 "worksheets": [
  {
   "cells": [
    {
     "cell_type": "code",
     "metadata": {},
     "outputs": [],
     "input": [
      "from numpy import *"
     ],
     "language": "python",
     "prompt_number": 3
    },
    {
     "cell_type": "heading",
     "metadata": {},
     "level": 1,
     "source": [
      "One-dimensional"
     ]
    },
    {
     "cell_type": "code",
     "metadata": {},
     "outputs": [
      {
       "output_type": "stream",
       "stream": "stdout",
       "text": [
        "int64\n"
       ]
      },
      {
       "output_type": "pyout",
       "text": [
        "array([ True,  True,  True,  True,  True], dtype=bool)"
       ],
       "metadata": {}
      }
     ],
     "input": [
      "a = arange(5)\n",
      "print a.dtype\n",
      "b = array([0,1,2,3,4])\n",
      "a == b"
     ],
     "language": "python",
     "prompt_number": 4
    },
    {
     "cell_type": "heading",
     "metadata": {},
     "level": 1,
     "source": [
      "Two-dimensional"
     ]
    },
    {
     "cell_type": "code",
     "metadata": {},
     "outputs": [
      {
       "output_type": "stream",
       "stream": "stdout",
       "text": [
        "(2, 2)\n"
       ]
      },
      {
       "output_type": "pyout",
       "text": [
        "array([[0, 1],\n       [0, 1]])"
       ],
       "metadata": {}
      }
     ],
     "input": [
      "m = array([arange(2), arange(2)])\n",
      "print m.shape\n",
      "m"
     ],
     "language": "python",
     "prompt_number": 5
    },
    {
     "cell_type": "code",
     "metadata": {},
     "outputs": [
      {
       "output_type": "pyout",
       "text": [
        "array([[0, 1, 2],\n       [0, 1, 2],\n       [0, 1, 2]])"
       ],
       "metadata": {}
      }
     ],
     "input": [
      "n = array([arange(3), arange(3), arange(3)])\n",
      "n"
     ],
     "language": "python",
     "prompt_number": 6
    },
    {
     "cell_type": "heading",
     "metadata": {},
     "level": 1,
     "source": [
      "Indexing"
     ]
    },
    {
     "cell_type": "code",
     "metadata": {},
     "outputs": [
      {
       "output_type": "stream",
       "stream": "stdout",
       "text": [
        "[[1 2]\n [3 4]]\n4\n[0 1 2 3 4]\n"
       ]
      }
     ],
     "input": [
      "a = array([[1,2], [3,4]])\n",
      "print a\n",
      "print a[1,1]\n",
      "b = arange(10)\n",
      "print b[:5]"
     ],
     "language": "python",
     "prompt_number": 7
    },
    {
     "cell_type": "heading",
     "metadata": {},
     "level": 1,
     "source": [
      "Flattening and reshaping"
     ]
    },
    {
     "cell_type": "code",
     "metadata": {},
     "outputs": [
      {
       "output_type": "stream",
       "stream": "stdout",
       "text": [
        "[ 0  1  2  3  4  5  6  7  8  9 10 11 12 13 14 15 16 17 18 19 20 21 22 23]\n[ 0  1  2  3  4  5  6  7  8  9 10 11 12 13 14 15 16 17 18 19 20 21 22 23]\n[[ 0  1  2  3  4  5  6  7  8  9 10 11]\n [12 13 14 15 16 17 18 19 20 21 22 23]]\n[[ 0 12]\n [ 1 13]\n [ 2 14]\n [ 3 15]\n [ 4 16]\n [ 5 17]\n [ 6 18]\n [ 7 19]\n [ 8 20]\n [ 9 21]\n [10 22]\n [11 23]]\n[[ 0  1  2  3]\n [ 4  5  6  7]\n [ 8  9 10 11]\n [12 13 14 15]\n [16 17 18 19]\n [20 21 22 23]]\n"
       ]
      }
     ],
     "input": [
      "b = arange(24).reshape(2,3,4)\n",
      "print b.ravel()\n",
      "print b.flatten() #same, but always allocates memory\n",
      "b.shape = (2,12)\n",
      "print b\n",
      "print b.transpose()\n",
      "b.resize((6,4)) # same as reshape but modifies the object\n",
      "print b"
     ],
     "language": "python",
     "prompt_number": 8
    },
    {
     "cell_type": "heading",
     "metadata": {},
     "level": 1,
     "source": [
      "Stacking"
     ]
    },
    {
     "cell_type": "code",
     "metadata": {},
     "outputs": [
      {
       "output_type": "stream",
       "stream": "stdout",
       "text": [
        "[[ 0  1  2  0  2  4]\n [ 3  4  5  6  8 10]\n [ 6  7  8 12 14 16]]\n[[ 0  1  2  0  2  4]\n [ 3  4  5  6  8 10]\n [ 6  7  8 12 14 16]]\n[[ 0  1  2]\n [ 3  4  5]\n [ 6  7  8]\n [ 0  2  4]\n [ 6  8 10]\n [12 14 16]]\n[[ 0  1  2]\n [ 3  4  5]\n [ 6  7  8]\n [ 0  2  4]\n [ 6  8 10]\n [12 14 16]]\n[[[ 0  0]\n  [ 1  2]\n  [ 2  4]]\n\n [[ 3  6]\n  [ 4  8]\n  [ 5 10]]\n\n [[ 6 12]\n  [ 7 14]\n  [ 8 16]]]\n"
       ]
      }
     ],
     "input": [
      "a = arange(9).reshape(3,3)\n",
      "b = 2*a\n",
      "print hstack((a,b))\n",
      "print concatenate((a,b), axis = 1) #just the same as above\n",
      "print vstack((a,b))\n",
      "print concatenate((a,b), axis = 0) #just the same as above\n",
      "print dstack((a,b)) #exotic"
     ],
     "language": "python",
     "prompt_number": 9
    },
    {
     "cell_type": "heading",
     "metadata": {},
     "level": 1,
     "source": [
      "Slicing"
     ]
    },
    {
     "cell_type": "code",
     "metadata": {},
     "outputs": [
      {
       "output_type": "stream",
       "stream": "stdout",
       "text": [
        "[[0 1 2]\n [3 4 5]\n [6 7 8]]\n[array([[0],\n       [3],\n       [6]]), array([[1],\n       [4],\n       [7]]), array([[2],\n       [5],\n       [8]])]\n[array([[0],\n       [3],\n       [6]]), array([[1],\n       [4],\n       [7]]), array([[2],\n       [5],\n       [8]])]\n[array([[0, 1, 2]]), array([[3, 4, 5]]), array([[6, 7, 8]])]\n[array([[0, 1, 2]]), array([[3, 4, 5]]), array([[6, 7, 8]])]\n"
       ]
      }
     ],
     "input": [
      "print a\n",
      "print hsplit(a,3) #inverse ov hstack\n",
      "print split(a,3,axis=1) #more general\n",
      "print vsplit(a,3)\n",
      "print split(a,3, axis=0) #more general"
     ],
     "language": "python",
     "prompt_number": 14
    },
    {
     "cell_type": "heading",
     "metadata": {},
     "level": 1,
     "source": [
      "Array attributes"
     ]
    },
    {
     "cell_type": "code",
     "metadata": {},
     "outputs": [
      {
       "output_type": "stream",
       "stream": "stdout",
       "text": [
        "[[ 0  1  2  3  4  5  6  7  8  9 10 11]\n [12 13 14 15 16 17 18 19 20 21 22 23]]\n2\n24\n[[ 0 12]\n [ 1 13]\n [ 2 14]\n [ 3 15]\n [ 4 16]\n [ 5 17]\n [ 6 18]\n [ 7 19]\n [ 8 20]\n [ 9 21]\n [10 22]\n [11 23]]\n"
       ]
      }
     ],
     "input": [
      "b = arange(24).reshape(2,12)\n",
      "print b\n",
      "print b.ndim\n",
      "print b.size\n",
      "print b.T"
     ],
     "language": "python",
     "prompt_number": 16
    },
    {
     "cell_type": "heading",
     "metadata": {},
     "level": 1,
     "source": [
      "Converting arrays"
     ]
    },
    {
     "cell_type": "code",
     "metadata": {},
     "outputs": [
      {
       "output_type": "stream",
       "stream": "stdout",
       "text": [
        "[[0, 1, 2], [3, 4, 5], [6, 7, 8]]\n[[ 0.+0.j  1.+0.j  2.+0.j]\n [ 3.+0.j  4.+0.j  5.+0.j]\n [ 6.+0.j  7.+0.j  8.+0.j]]\n"
       ]
      }
     ],
     "input": [
      "print a.tolist()\n",
      "print a.astype('complex')"
     ],
     "language": "python",
     "prompt_number": 19
    },
    {
     "cell_type": "code",
     "metadata": {},
     "outputs": [],
     "input": [
      ""
     ],
     "language": "python",
     "prompt_number": 11
    },
    {
     "cell_type": "code",
     "metadata": {},
     "outputs": [],
     "input": [
      ""
     ],
     "language": "python",
     "prompt_number": 11
    },
    {
     "cell_type": "code",
     "metadata": {},
     "outputs": [],
     "input": [
      ""
     ],
     "language": "python",
     "prompt_number": 11
    },
    {
     "cell_type": "code",
     "metadata": {},
     "outputs": [],
     "input": [
      ""
     ],
     "language": "python",
     "prompt_number": 11
    },
    {
     "cell_type": "code",
     "metadata": {},
     "outputs": [],
     "input": [
      ""
     ],
     "language": "python",
     "prompt_number": 11
    },
    {
     "cell_type": "code",
     "metadata": {},
     "outputs": [],
     "input": [
      ""
     ],
     "language": "python"
    }
   ]
  }
 ],
 "cells": [],
 "metadata": {
  "name": "",
  "signature": "sha256:a88f5d9503fc00cae814ea3a2cdedda309ce135dabfce8818d88d032dd4d9192"
 },
 "nbformat": 3,
 "nbformat_minor": 0
}